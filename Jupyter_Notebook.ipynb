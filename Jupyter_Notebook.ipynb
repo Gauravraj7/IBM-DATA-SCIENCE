{
 "cells": [
  {
   "cell_type": "markdown",
   "metadata": {},
   "source": [
    "<center>\n",
    "    <img src=\"https://cf-courses-data.s3.us.cloud-object-storage.appdomain.cloud/IBMDeveloperSkillsNetwork-DS0105EN-SkillsNetwork/labs/Module2/images/SN_web_lightmode.png\" width=\"300\" alt=\"cognitiveclass.ai logo\">\n",
    "</center>\n"
   ]
  },
  {
   "cell_type": "markdown",
   "metadata": {},
   "source": [
    "#### Add your code below following the instructions given in the course\n"
   ]
  },
  {
   "cell_type": "markdown",
   "metadata": {},
   "source": [
    "##Jupyter_Notebook\n"
   ]
  },
  {
   "cell_type": "markdown",
   "metadata": {},
   "source": [
    "Hello , i am Gaurav raj"
   ]
  },
  {
   "cell_type": "markdown",
   "metadata": {},
   "source": [
    "DATA SCIENCE  LANGUAGES ARE :-\n",
    "PYHTON\n",
    "R\n",
    "SQL\n",
    "JAVA"
   ]
  },
  {
   "cell_type": "markdown",
   "metadata": {},
   "source": [
    "| Tool Name   | Description                                            |\n",
    "| ----------- | ------------------------------------------------------ |\n",
    "| Python      | General-purpose programming language for data science  |\n",
    "| R           | Programming language for statistical analysis           |\n",
    "| SQL         | Query language for managing relational databases        |\n",
    "| Java        | General-purpose programming language for big data      |\n",
    "| MATLAB      | Programming language for numerical analysis and data science |\n",
    "| Scala       | Programming language for big data applications         |\n",
    "| Pandas      | Python library for data manipulation and analysis      |\n",
    "| NumPy       | Python library for numerical computing and data analysis |\n",
    "| SciPy       | Python library for scientific computing and data analysis |\n",
    "| Scikit-learn| Python library for machine learning                     |\n",
    "| TensorFlow  | Open source machine learning framework                   |\n",
    "| Keras       | High-level neural networks API for TensorFlow           |\n",
    "| PyTorch     | Open source machine learning framework                   |\n",
    "| Tableau     | Data visualization tool for creating interactive dashboards |\n",
    "| PowerBI     | Business intelligence tool for data visualization and analysis |\n",
    "| Apache Spark| Open source big data processing engine                   |\n"
   ]
  },
  {
   "cell_type": "markdown",
   "metadata": {},
   "source": [
    "200+300-29"
   ]
  },
  {
   "cell_type": "code",
   "execution_count": 1,
   "metadata": {},
   "outputs": [
    {
     "name": "stdout",
     "output_type": "stream",
     "text": [
      "The product of x and y is: 35\n",
      "The sum of x and y is: 12\n"
     ]
    }
   ],
   "source": [
    "# Define variables\n",
    "x = 5\n",
    "y = 7\n",
    "\n",
    "# Multiply x and y\n",
    "z = x * y\n",
    "\n",
    "# Add x and y\n",
    "w = x + y\n",
    "\n",
    "# Print the results\n",
    "print(\"The product of x and y is:\", z)\n",
    "print(\"The sum of x and y is:\", w)\n"
   ]
  },
  {
   "cell_type": "code",
   "execution_count": 2,
   "metadata": {},
   "outputs": [
    {
     "name": "stdout",
     "output_type": "stream",
     "text": [
      "135 minutes is equal to 2.25 hours\n"
     ]
    }
   ],
   "source": [
    "# Define a variable for minutes\n",
    "minutes = 135\n",
    "\n",
    "# Convert minutes to hours\n",
    "hours = minutes / 60\n",
    "\n",
    "# Print the result\n",
    "print(minutes, \"minutes is equal to\", hours, \"hours\")\n"
   ]
  },
  {
   "cell_type": "markdown",
   "metadata": {},
   "source": [
    "# Objectives\n",
    "\n",
    "- objective 1\n",
    "- objective 2 \n",
    "- objective 3\n"
   ]
  },
  {
   "cell_type": "markdown",
   "metadata": {},
   "source": [
    "# Author\n",
    "Written by Gaurav raj\n"
   ]
  },
  {
   "cell_type": "code",
   "execution_count": null,
   "metadata": {},
   "outputs": [],
   "source": []
  }
 ],
 "metadata": {
  "kernelspec": {
   "display_name": "Python",
   "language": "python",
   "name": "conda-env-python-py"
  },
  "language_info": {
   "codemirror_mode": {
    "name": "ipython",
    "version": 3
   },
   "file_extension": ".py",
   "mimetype": "text/x-python",
   "name": "python",
   "nbconvert_exporter": "python",
   "pygments_lexer": "ipython3",
   "version": "3.7.12"
  }
 },
 "nbformat": 4,
 "nbformat_minor": 4
}
